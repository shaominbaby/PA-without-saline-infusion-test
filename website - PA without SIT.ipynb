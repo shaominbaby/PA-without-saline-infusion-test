{
 "cells": [
  {
   "cell_type": "raw",
   "metadata": {},
   "source": []
  },
  {
   "cell_type": "code",
   "execution_count": 7,
   "metadata": {},
   "outputs": [
    {
     "name": "stdout",
     "output_type": "stream",
     "text": [
      "Welcome to the prediction tool: please use the point as separator for decimal number: (3.7 and not 3,7)\n",
      "-------------------------\n",
      "\n",
      "Insert value of age (year) and press enter:\n",
      "54\n",
      "Insert value of gender (1:Male, 2:Female) and press enter:\n",
      "1\n",
      "Insert value of systolic blood pressure (SBP, mmHg)  and press enter:\n",
      "130\n",
      "Insert value of diastolic blood pressure (DBP, mmHg) and press enter:\n",
      "88\n",
      "Insert value of ARR ((pg/ml )/(ng/ml/h) and press enter:\n",
      "366.6\n",
      "Insert value of serum potassiam (mmol/L) and press enter:\n",
      "3.2\n",
      "Insert value of ARR after 50 mg CCT and press enter:\n",
      "363.3\n",
      "Insert value of types of antihypertensive agents at diagnosis and press enter:\n",
      "1\n",
      "------------\n",
      "The patient is predicted as:  ['UPA']\n",
      "The predicted probability is:  0.5975714213835864\n"
     ]
    }
   ],
   "source": [
    "import numpy as np\n",
    "import pickle\n",
    "names=['Age','Gender','SBP','DBP','ARR','K','ARR-50mg','Anti-agents']\n",
    "filename = 'finalized_model without SIT.sav'\n",
    "loaded_model = pickle.load(open(filename, 'rb'))\n",
    "print ('Welcome to the prediction tool: please use the point as separator for decimal number: (3.7 and not 3,7)')\n",
    "print ('-------------------------\\n')\n",
    "ABPM_parameters =['age (year)', 'gender (1:Male, 2:Female)', 'systolic blood pressure (SBP, mmHg) ', 'diastolic blood pressure (DBP, mmHg)', 'ARR ((pg/ml )/(ng/ml/h)', 'serum potassiam (mmol/L)', 'ARR after 50 mg CCT',  'types of antihypertensive agents at diagnosis'] \n",
    "Query = np.zeros((1,8))\n",
    "Prediction_type = ['UPA','BPA']\n",
    "for i in range(len(ABPM_parameters)):\n",
    "    String_to_print = 'Insert value of ' +ABPM_parameters[i]+' and press enter:\\n'\n",
    "    Query[0,i] = input(String_to_print)\n",
    "Prediction = loaded_model.predict(Query)\n",
    "Probability=loaded_model.predict_proba(Query)[0,1]\n",
    "print ('------------')\n",
    "print ('The patient is predicted as: '   , Prediction)\n",
    "if Prediction == 'UPA':\n",
    "    print('The predicted probability is: ', Probability)\n",
    "else:\n",
    "    print('The predicted probability is: ', 1-Probability)"
   ]
  },
  {
   "cell_type": "code",
   "execution_count": null,
   "metadata": {},
   "outputs": [],
   "source": []
  },
  {
   "cell_type": "code",
   "execution_count": null,
   "metadata": {},
   "outputs": [],
   "source": []
  },
  {
   "cell_type": "code",
   "execution_count": null,
   "metadata": {},
   "outputs": [],
   "source": []
  },
  {
   "cell_type": "raw",
   "metadata": {},
   "source": []
  },
  {
   "cell_type": "raw",
   "metadata": {},
   "source": []
  }
 ],
 "metadata": {
  "kernelspec": {
   "display_name": "Python 3 (ipykernel)",
   "language": "python",
   "name": "python3"
  },
  "language_info": {
   "codemirror_mode": {
    "name": "ipython",
    "version": 3
   },
   "file_extension": ".py",
   "mimetype": "text/x-python",
   "name": "python",
   "nbconvert_exporter": "python",
   "pygments_lexer": "ipython3",
   "version": "3.9.7"
  }
 },
 "nbformat": 4,
 "nbformat_minor": 2
}
